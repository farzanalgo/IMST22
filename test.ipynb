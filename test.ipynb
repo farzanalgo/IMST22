{
 "cells": [
  {
   "cell_type": "code",
   "execution_count": 1,
   "metadata": {},
   "outputs": [],
   "source": [
    "import pandas as pd"
   ]
  },
  {
   "cell_type": "code",
   "execution_count": 2,
   "metadata": {},
   "outputs": [],
   "source": [
    "df = pd.read_csv('/home/farzan/robot/IMS22/csv_html/BTCUSDT_h4.csv')"
   ]
  },
  {
   "cell_type": "code",
   "execution_count": 3,
   "metadata": {},
   "outputs": [
    {
     "data": {
      "text/html": [
       "<div>\n",
       "<style scoped>\n",
       "    .dataframe tbody tr th:only-of-type {\n",
       "        vertical-align: middle;\n",
       "    }\n",
       "\n",
       "    .dataframe tbody tr th {\n",
       "        vertical-align: top;\n",
       "    }\n",
       "\n",
       "    .dataframe thead th {\n",
       "        text-align: right;\n",
       "    }\n",
       "</style>\n",
       "<table border=\"1\" class=\"dataframe\">\n",
       "  <thead>\n",
       "    <tr style=\"text-align: right;\">\n",
       "      <th></th>\n",
       "      <th>open_time</th>\n",
       "      <th>open</th>\n",
       "      <th>high</th>\n",
       "      <th>low</th>\n",
       "      <th>close</th>\n",
       "      <th>fractal_h4</th>\n",
       "      <th>fractal_d</th>\n",
       "    </tr>\n",
       "  </thead>\n",
       "  <tbody>\n",
       "    <tr>\n",
       "      <th>0</th>\n",
       "      <td>1585137600</td>\n",
       "      <td>6500.0</td>\n",
       "      <td>6628.5</td>\n",
       "      <td>6457.5</td>\n",
       "      <td>6511.5</td>\n",
       "      <td>0</td>\n",
       "      <td>0.0</td>\n",
       "    </tr>\n",
       "    <tr>\n",
       "      <th>1</th>\n",
       "      <td>1585152000</td>\n",
       "      <td>6511.5</td>\n",
       "      <td>6745.5</td>\n",
       "      <td>6502.0</td>\n",
       "      <td>6615.0</td>\n",
       "      <td>0</td>\n",
       "      <td>0.0</td>\n",
       "    </tr>\n",
       "    <tr>\n",
       "      <th>2</th>\n",
       "      <td>1585166400</td>\n",
       "      <td>6615.0</td>\n",
       "      <td>6695.5</td>\n",
       "      <td>6592.5</td>\n",
       "      <td>6622.0</td>\n",
       "      <td>0</td>\n",
       "      <td>0.0</td>\n",
       "    </tr>\n",
       "    <tr>\n",
       "      <th>3</th>\n",
       "      <td>1585180800</td>\n",
       "      <td>6622.0</td>\n",
       "      <td>6698.5</td>\n",
       "      <td>6556.0</td>\n",
       "      <td>6698.5</td>\n",
       "      <td>0</td>\n",
       "      <td>0.0</td>\n",
       "    </tr>\n",
       "    <tr>\n",
       "      <th>4</th>\n",
       "      <td>1585195200</td>\n",
       "      <td>6698.5</td>\n",
       "      <td>6767.0</td>\n",
       "      <td>6655.0</td>\n",
       "      <td>6726.5</td>\n",
       "      <td>0</td>\n",
       "      <td>0.0</td>\n",
       "    </tr>\n",
       "    <tr>\n",
       "      <th>...</th>\n",
       "      <td>...</td>\n",
       "      <td>...</td>\n",
       "      <td>...</td>\n",
       "      <td>...</td>\n",
       "      <td>...</td>\n",
       "      <td>...</td>\n",
       "      <td>...</td>\n",
       "    </tr>\n",
       "    <tr>\n",
       "      <th>5801</th>\n",
       "      <td>1660233600</td>\n",
       "      <td>24547.0</td>\n",
       "      <td>24950.0</td>\n",
       "      <td>24271.5</td>\n",
       "      <td>24337.0</td>\n",
       "      <td>0</td>\n",
       "      <td>0.0</td>\n",
       "    </tr>\n",
       "    <tr>\n",
       "      <th>5802</th>\n",
       "      <td>1660248000</td>\n",
       "      <td>24337.0</td>\n",
       "      <td>24411.0</td>\n",
       "      <td>24070.0</td>\n",
       "      <td>24215.5</td>\n",
       "      <td>0</td>\n",
       "      <td>0.0</td>\n",
       "    </tr>\n",
       "    <tr>\n",
       "      <th>5803</th>\n",
       "      <td>1660262400</td>\n",
       "      <td>24215.5</td>\n",
       "      <td>24325.5</td>\n",
       "      <td>23850.0</td>\n",
       "      <td>23927.0</td>\n",
       "      <td>0</td>\n",
       "      <td>0.0</td>\n",
       "    </tr>\n",
       "    <tr>\n",
       "      <th>5804</th>\n",
       "      <td>1660276800</td>\n",
       "      <td>23927.0</td>\n",
       "      <td>24084.5</td>\n",
       "      <td>23754.5</td>\n",
       "      <td>23999.5</td>\n",
       "      <td>0</td>\n",
       "      <td>0.0</td>\n",
       "    </tr>\n",
       "    <tr>\n",
       "      <th>5805</th>\n",
       "      <td>1660291200</td>\n",
       "      <td>23999.5</td>\n",
       "      <td>24038.5</td>\n",
       "      <td>23865.0</td>\n",
       "      <td>23934.5</td>\n",
       "      <td>0</td>\n",
       "      <td>0.0</td>\n",
       "    </tr>\n",
       "  </tbody>\n",
       "</table>\n",
       "<p>5806 rows × 7 columns</p>\n",
       "</div>"
      ],
      "text/plain": [
       "       open_time     open     high      low    close  fractal_h4  fractal_d\n",
       "0     1585137600   6500.0   6628.5   6457.5   6511.5           0        0.0\n",
       "1     1585152000   6511.5   6745.5   6502.0   6615.0           0        0.0\n",
       "2     1585166400   6615.0   6695.5   6592.5   6622.0           0        0.0\n",
       "3     1585180800   6622.0   6698.5   6556.0   6698.5           0        0.0\n",
       "4     1585195200   6698.5   6767.0   6655.0   6726.5           0        0.0\n",
       "...          ...      ...      ...      ...      ...         ...        ...\n",
       "5801  1660233600  24547.0  24950.0  24271.5  24337.0           0        0.0\n",
       "5802  1660248000  24337.0  24411.0  24070.0  24215.5           0        0.0\n",
       "5803  1660262400  24215.5  24325.5  23850.0  23927.0           0        0.0\n",
       "5804  1660276800  23927.0  24084.5  23754.5  23999.5           0        0.0\n",
       "5805  1660291200  23999.5  24038.5  23865.0  23934.5           0        0.0\n",
       "\n",
       "[5806 rows x 7 columns]"
      ]
     },
     "execution_count": 3,
     "metadata": {},
     "output_type": "execute_result"
    }
   ],
   "source": [
    "df"
   ]
  },
  {
   "cell_type": "code",
   "execution_count": 4,
   "metadata": {},
   "outputs": [
    {
     "data": {
      "text/plain": [
       " 0    5380\n",
       " 1     214\n",
       "-1     212\n",
       "Name: fractal_h4, dtype: int64"
      ]
     },
     "execution_count": 4,
     "metadata": {},
     "output_type": "execute_result"
    }
   ],
   "source": [
    "df['fractal_h4'].value_counts()"
   ]
  },
  {
   "cell_type": "code",
   "execution_count": 5,
   "metadata": {},
   "outputs": [
    {
     "data": {
      "text/plain": [
       " 0.0    5688\n",
       "-1.0      63\n",
       " 1.0      55\n",
       "Name: fractal_d, dtype: int64"
      ]
     },
     "execution_count": 5,
     "metadata": {},
     "output_type": "execute_result"
    }
   ],
   "source": [
    "df['fractal_d'].value_counts()"
   ]
  },
  {
   "cell_type": "code",
   "execution_count": null,
   "metadata": {},
   "outputs": [],
   "source": []
  }
 ],
 "metadata": {
  "kernelspec": {
   "display_name": "Python 3.8.10 ('envs': venv)",
   "language": "python",
   "name": "python3"
  },
  "language_info": {
   "codemirror_mode": {
    "name": "ipython",
    "version": 3
   },
   "file_extension": ".py",
   "mimetype": "text/x-python",
   "name": "python",
   "nbconvert_exporter": "python",
   "pygments_lexer": "ipython3",
   "version": "3.8.10"
  },
  "orig_nbformat": 4,
  "vscode": {
   "interpreter": {
    "hash": "31b979d1f6e44e55c0548730d4f5c63a5631b302d8f714af064557ebe6e90a16"
   }
  }
 },
 "nbformat": 4,
 "nbformat_minor": 2
}
